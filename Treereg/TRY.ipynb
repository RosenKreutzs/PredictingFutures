{
 "cells": [
  {
   "cell_type": "code",
   "execution_count": null,
   "id": "initial_id",
   "metadata": {
    "collapsed": true
   },
   "outputs": [],
   "source": [
    ""
   ]
  },
  {
   "metadata": {},
   "cell_type": "code",
   "outputs": [],
   "execution_count": null,
   "source": [
    "import pandas as pd\n",
    "from sklearn.model_selection import train_test_split\n",
    "from sklearn.tree import DecisionTreeRegressor\n",
    "from sklearn.metrics import mean_squared_error, mean_absolute_error\n",
    "import pickle\n",
    "\n",
    "\n",
    "def drop_split_future(data, drop_features, target):\n",
    "    target_future = data[target]\n",
    "    data = data.drop(drop_features, axis=1)\n",
    "    return data, target_future\n",
    "\n",
    "\n",
    "if __name__ == \"__main__\":\n",
    "    df = pd.read_csv(\"../data_files/ADS/futures_data3.csv\")\n",
    "    X, y = drop_split_future(df, [\"commodity\", \"date\"], \"tomorrow_close\")\n",
    "    X = X.drop(X.index[0])  # 删除第一行数据\n",
    "    y = y.drop(X.index[0])  # 删除对应的目标值\n",
    "\n",
    "    # 将数据集分为训练集和测试集\n",
    "    X_train, X_test, y_train, y_test = train_test_split(X, y, test_size=0.2, random_state=42)\n",
    "\n",
    "    # 构建决策树回归模型\n",
    "    tree_reg = DecisionTreeRegressor(random_state=42)  # 设置随机种子以便结果可复现\n",
    "\n",
    "    # 训练模型\n",
    "    tree_reg.fit(X_train, y_train)\n",
    "\n",
    "    # 使用训练好的模型进行预测\n",
    "    y_pred = tree_reg.predict(X_test)\n",
    "\n",
    "    # 评估模型\n",
    "    mse = mean_squared_error(y_test, y_pred)\n",
    "    mae = mean_absolute_error(y_test, y_pred)\n",
    "    print(f\"Mean Squared Error: {mse}\")\n",
    "    print(f\"Mean Absolute Error: {mae}\")\n",
    "\n",
    "    # 保存模型\n",
    "    with open('tree_reg_model.pkl', 'wb') as file:\n",
    "        pickle.dump(tree_reg, file)"
   ],
   "id": "13f2276c8c1f2426"
  }
 ],
 "metadata": {
  "kernelspec": {
   "display_name": "Python 3",
   "language": "python",
   "name": "python3"
  },
  "language_info": {
   "codemirror_mode": {
    "name": "ipython",
    "version": 2
   },
   "file_extension": ".py",
   "mimetype": "text/x-python",
   "name": "python",
   "nbconvert_exporter": "python",
   "pygments_lexer": "ipython2",
   "version": "2.7.6"
  }
 },
 "nbformat": 4,
 "nbformat_minor": 5
}
