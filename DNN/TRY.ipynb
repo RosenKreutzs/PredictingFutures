{
 "cells": [
  {
   "cell_type": "code",
   "id": "initial_id",
   "metadata": {
    "collapsed": true,
    "ExecuteTime": {
     "end_time": "2024-05-19T08:46:25.794925Z",
     "start_time": "2024-05-19T08:46:25.763800Z"
    }
   },
   "source": [
    ""
   ],
   "outputs": [],
   "execution_count": 4
  },
  {
   "metadata": {
    "ExecuteTime": {
     "end_time": "2024-05-19T08:47:22.141736Z",
     "start_time": "2024-05-19T08:47:10.892845Z"
    }
   },
   "cell_type": "code",
   "source": [
    "# 导入必要的库\n",
    "from keras.src import regularizers\n",
    "from sklearn.model_selection import train_test_split\n",
    "import pandas as pd\n",
    "import pickle\n",
    "import numpy as np\n",
    "import keras\n",
    "\n",
    "\n",
    "\n",
    "def drop_split_future(data,drop_future,target):#删除无关特征，提取标签\n",
    "    target_future=data[target]\n",
    "    # 删除指定的列特征\n",
    "    data = data.drop(drop_future, axis=1)\n",
    "    data = data.round(2)\n",
    "    data = data.drop(data.index[0])\n",
    "    target_future = target_future.drop(data.index[0])\n",
    "    return data,target_future\n",
    "\n",
    "if __name__ == \"__main__\":\n",
    "    df=pd.read_csv(\"../data_files/ADS/futures_data3.csv\")\n",
    "    X,y=drop_split_future(df,[\"commodity\",\"date\"],\"tomorrow_close\")\n",
    "    X = X.drop(X.index[0])\n",
    "    y = y.drop(X.index[0])\n",
    "    # 将数据集分为训练集和测试集\n",
    "    X_train, X_test, y_train, y_test = train_test_split(X, y, test_size=0.2, random_state=42)\n",
    "    print(X_train.shape)\n",
    "    # 构建网络\n",
    "    model = keras.models.Sequential()\n",
    "    #regularizers.l2(0.01)表示L2正则化的强度，即权重参数的平方和会乘以0.01后加到损失函数中\n",
    "    model.add(keras.layers.Dense(64, activation='relu', input_shape=(X_train.shape[1],),kernel_regularizer=regularizers.l2(0.01)))\n",
    "    model.add(keras.layers.Dense(64, activation='relu',kernel_regularizer=regularizers.l2(0.01)))\n",
    "    model.add(keras.layers.Dense(1))  # 标量回归的典型操作(只是预测一个单一连续值的回归的最后一层)\n",
    "    model.compile(optimizer='rmsprop', loss='mse', metrics=['mae'])  # mse是均方误差;mae是平均绝对误差(预测与真实值的差距)\n",
    "\n",
    "    # 训练深度森林模型\n",
    "    model.fit(X_train, y_train)\n",
    "    # 使用训练好的模型进行预测\n",
    "    print(X_train.shape)\n",
    "    m=pd.DataFrame(X_train.iloc[0].values.reshape(1, 18))\n",
    "    y_pred = model.predict(m)\n",
    "    print(y_pred)\n",
    "    with open('dnn_deepforest_model.pkl', 'wb') as file:\n",
    "        pickle.dump(model, file)\n"
   ],
   "id": "c5353ab924284eba",
   "outputs": [
    {
     "name": "stdout",
     "output_type": "stream",
     "text": [
      "(44759, 18)\n",
      "1399/1399 [==============================] - 9s 6ms/step - loss: 3050670.0000 - mae: 332.5443\n",
      "(44759, 18)\n",
      "1/1 [==============================] - 0s 151ms/step\n",
      "[[1737.6765]]\n"
     ]
    }
   ],
   "execution_count": 6
  },
  {
   "metadata": {
    "ExecuteTime": {
     "end_time": "2024-05-19T08:46:38.133069Z",
     "start_time": "2024-05-19T08:46:38.117349Z"
    }
   },
   "cell_type": "code",
   "source": "",
   "id": "54b181b46ce68730",
   "outputs": [],
   "execution_count": 5
  }
 ],
 "metadata": {
  "kernelspec": {
   "display_name": "Python 3",
   "language": "python",
   "name": "python3"
  },
  "language_info": {
   "codemirror_mode": {
    "name": "ipython",
    "version": 2
   },
   "file_extension": ".py",
   "mimetype": "text/x-python",
   "name": "python",
   "nbconvert_exporter": "python",
   "pygments_lexer": "ipython2",
   "version": "2.7.6"
  }
 },
 "nbformat": 4,
 "nbformat_minor": 5
}
